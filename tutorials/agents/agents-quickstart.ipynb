{
 "cells": [
  {
   "cell_type": "code",
   "execution_count": 2,
   "metadata": {},
   "outputs": [],
   "source": [
    "%load_ext dotenv\n",
    "%dotenv"
   ]
  },
  {
   "cell_type": "code",
   "execution_count": 3,
   "metadata": {},
   "outputs": [],
   "source": [
    "from langchain_community.tools.tavily_search import TavilySearchResults\n",
    "search = TavilySearchResults()"
   ]
  },
  {
   "cell_type": "code",
   "execution_count": 4,
   "metadata": {},
   "outputs": [
    {
     "data": {
      "text/plain": [
       "[{'url': 'https://www.weatherapi.com/',\n",
       "  'content': \"Weather in Da Nang is {'location': {'name': 'Da Nang', 'region': '', 'country': 'Vietnam', 'lat': 21.72, 'lon': 105.35, 'tz_id': 'Asia/Bangkok', 'localtime_epoch': 1708493676, 'localtime': '2024-02-21 12:34'}, 'current': {'last_updated_epoch': 1708493400, 'last_updated': '2024-02-21 12:30', 'temp_c': 29.6, 'temp_f': 85.2, 'is_day': 1, 'condition': {'text': 'Sunny', 'icon': '//cdn.weatherapi.com/weather/64x64/day/113.png', 'code': 1000}, 'wind_mph': 3.8, 'wind_kph': 6.1, 'wind_degree': 94, 'wind_dir': 'E', 'pressure_mb': 1008.0, 'pressure_in': 29.76, 'precip_mm': 0.0, 'precip_in': 0.0, 'humidity': 52, 'cloud': 0, 'feelslike_c': 31.1, 'feelslike_f': 87.9, 'vis_km': 10.0, 'vis_miles': 6.0, 'uv': 7.0, 'gust_mph': 4.4, 'gust_kph': 7.1}}\"},\n",
       " {'url': 'https://www.weathertab.com/en/c/2024/02/socialist-republic-of-vietnam/thanh-pho-da-nang/da-nang/',\n",
       "  'content': 'Free Long Range Weather Forecast for Da Nang, Thành Phố Đà Nẵng February 2024. Calendar overview of Months Weather Forecast. ... Calendar overview of Months Weather Forecast. ... WeatherTAB Da Nang, Thành Phố Đà Nẵng Help °C °F. Jan February 2024 . November 2022; December 2022; January 2023; February 2023; March 2023; April 2023 ...'},\n",
       " {'url': 'https://www.weather25.com/asia/vietnam/da-nang?page=month&month=February',\n",
       "  'content': 'Da Nang weather in February 2024 Click on a day for an hourly weather forecast Friday Feb 9 0 in 62° / 55° Saturday Feb 10 0 in 68° / 59° Sunday Feb 11 0 in 73° / 57° Monday Feb 12 0 in 75° / 59° Tuesday Feb 13 0 in 71° / 62° Wednesday Feb 14 0.01 in 77° / 66° Thursday'},\n",
       " {'url': 'https://www.wunderground.com/history/daily/vn/da-nang/date/2024-2-21',\n",
       "  'content': 'You are about to report this weather station for bad data. Please select the information that is incorrect.'},\n",
       " {'url': 'https://www.vietnam-travelonline.com/2024/02/02/da-nang-weather-2024-updated-when-is-the-best-time-to-visit-da-nang/',\n",
       "  'content': \"Feb 2, 2024 Are you considering Da Nang weather and the best time to visit Da Nang? Da Nang weather is affected by the tropical monsoon climate with different weather conditions in two seasons. Don't forget to read this article and be well-prepared for your trip to Da Nang!\"}]"
      ]
     },
     "execution_count": 4,
     "metadata": {},
     "output_type": "execute_result"
    }
   ],
   "source": [
    "search.invoke(\"What is the weather in Da Nang?\")"
   ]
  },
  {
   "cell_type": "code",
   "execution_count": 5,
   "metadata": {},
   "outputs": [],
   "source": [
    "from langchain.text_splitter import RecursiveCharacterTextSplitter\n",
    "from langchain_community.document_loaders import WebBaseLoader\n",
    "from langchain_community.vectorstores import FAISS\n",
    "from langchain_openai import OpenAIEmbeddings\n",
    "\n",
    "loader = WebBaseLoader(\"https://docs.smith.langchain.com/evaluation/faq/datasets-client\")\n",
    "docs = loader.load()\n",
    "documents = RecursiveCharacterTextSplitter(\n",
    "    chunk_size=1000, chunk_overlap=200\n",
    ").split_documents(docs)"
   ]
  },
  {
   "cell_type": "code",
   "execution_count": 6,
   "metadata": {},
   "outputs": [],
   "source": [
    "vector = FAISS.from_documents(documents, OpenAIEmbeddings())\n",
    "retriever = vector.as_retriever()"
   ]
  },
  {
   "cell_type": "code",
   "execution_count": 7,
   "metadata": {},
   "outputs": [
    {
     "data": {
      "text/plain": [
       "[Document(page_content='from CSV\\u200bIn this section, we will demonstrate how you can create a dataset by uploading a CSV file.First, ensure your CSV file is properly formatted with columns that represent your input and output keys. These keys will be utilized to map your data properly during the upload. You can specify an optional name and description for your dataset. Otherwise, the file name will be used as the dataset name and no description will be provided.Python SDKTypeScript SDKfrom langsmith import Clientimport osos.environ[\"LANGCHAIN_ENDPOINT\"] = \"https://api.smith.langchain.com\"os.environ[\"LANGCHAIN_API_KEY\"] = \"<YOUR-LANGSMITH-API-KEY>\"client = Client()csv_file = \\'path/to/your/csvfile.csv\\'input_keys = [\\'column1\\', \\'column2\\'] # replace with your input column namesoutput_keys = [\\'output1\\', \\'output2\\'] # replace with your output column namesdataset = client.upload_csv(    csv_file=csv_file,    input_keys=input_keys,    output_keys=output_keys,    name=\"My CSV Dataset\",    description=\"Dataset created from', metadata={'source': 'https://docs.smith.langchain.com/evaluation/faq/datasets-client', 'title': 'How to manage datasets programmatically | 🦜️🛠️ LangSmith', 'description': 'You can create a dataset from existing runs or upload a CSV file (or pandas dataframe in python).', 'language': 'en'}),\n",
       " Document(page_content='Skip to main content🦜️🛠️ LangSmith DocsLangChain Python DocsLangChain JS/TS DocsLangSmith API DocsSearchGo to AppLangSmithUser GuideSetupPricing (Coming Soon)Self-HostingTracingEvaluationOverviewQuick StartConceptsHow-To GuidesHow to manage datasets in the appHow to create datasets from the clientHow to list datasets from the clientHow to list datapoints from the clientHow to create custom evaluatorsHow to use off-the-shelf LangChain evaluatorsHow to paraphrase examples to expand your datasetHow to create new examples using promptingRecommendationsMonitoringPrompt HubEvaluationHow-To GuidesHow to create datasets from the clientOn this pageHow to manage datasets programmaticallyYou can create a dataset from existing runs or upload a CSV file (or pandas dataframe in python).Once you have a dataset created, you can continue to add new runs to it as examples. We recommend that you organize datasets to target a single \"task\", usually served by a single chain or LLM. For more discussions on', metadata={'source': 'https://docs.smith.langchain.com/evaluation/faq/datasets-client', 'title': 'How to manage datasets programmatically | 🦜️🛠️ LangSmith', 'description': 'You can create a dataset from existing runs or upload a CSV file (or pandas dataframe in python).', 'language': 'en'}),\n",
       " Document(page_content='python client offers an additional convenience method to upload a dataset from a pandas dataframe.from langsmith import Clientimport osimport pandas as pdos.environ[\"LANGCHAIN_ENDPOINT\"] = \"https://api.smith.langchain.com\"os.environ[\"LANGCHAIN_API_KEY\"] = \"<YOUR-LANGSMITH-API-KEY>\"client = Client()df = pd.read_parquet(\\'path/to/your/myfile.parquet\\')input_keys = [\\'column1\\', \\'column2\\'] # replace with your input column namesoutput_keys = [\\'output1\\', \\'output2\\'] # replace with your output column namesdataset = client.upload_dataframe(    df=df,    input_keys=input_keys,    output_keys=output_keys,    name=\"My Parquet Dataset\",    description=\"Dataset created from a parquet file\",    data_type=\"kv\" # The default)PreviousHow to manage datasets in the appNextHow to list datasets from the clientCreate from list of valuesCreate from existing runsCreate dataset from CSVCreate dataset from pandas dataframeCommunityDiscordTwitterGitHubDocs CodeLangSmith SDKPythonJS/TSMoreHomepageBlogCopyright ©', metadata={'source': 'https://docs.smith.langchain.com/evaluation/faq/datasets-client', 'title': 'How to manage datasets programmatically | 🦜️🛠️ LangSmith', 'description': 'You can create a dataset from existing runs or upload a CSV file (or pandas dataframe in python).', 'language': 'en'}),\n",
       " Document(page_content='How to manage datasets programmatically | 🦜️🛠️ LangSmith', metadata={'source': 'https://docs.smith.langchain.com/evaluation/faq/datasets-client', 'title': 'How to manage datasets programmatically | 🦜️🛠️ LangSmith', 'description': 'You can create a dataset from existing runs or upload a CSV file (or pandas dataframe in python).', 'language': 'en'})]"
      ]
     },
     "execution_count": 7,
     "metadata": {},
     "output_type": "execute_result"
    }
   ],
   "source": [
    "retriever.get_relevant_documents(\"How to upload a dataset\")"
   ]
  },
  {
   "cell_type": "code",
   "execution_count": 8,
   "metadata": {},
   "outputs": [],
   "source": [
    "from langchain.tools.retriever import create_retriever_tool\n",
    "retriever_tool = create_retriever_tool(\n",
    "    retriever,\n",
    "    \"langsmith_search\",\n",
    "    \"Search for information about Langsmith.\"\n",
    ")"
   ]
  },
  {
   "cell_type": "code",
   "execution_count": 9,
   "metadata": {},
   "outputs": [],
   "source": [
    "tools = [search, retriever_tool]"
   ]
  },
  {
   "cell_type": "markdown",
   "metadata": {},
   "source": [
    "## Create the agent"
   ]
  },
  {
   "cell_type": "code",
   "execution_count": 10,
   "metadata": {},
   "outputs": [],
   "source": [
    "from langchain_openai import ChatOpenAI\n",
    "llm = ChatOpenAI(model=\"gpt-3.5-turbo\", temperature=0)"
   ]
  },
  {
   "cell_type": "code",
   "execution_count": 11,
   "metadata": {},
   "outputs": [
    {
     "data": {
      "text/plain": [
       "[SystemMessagePromptTemplate(prompt=PromptTemplate(input_variables=[], template='You are a helpful assistant')),\n",
       " MessagesPlaceholder(variable_name='chat_history', optional=True),\n",
       " HumanMessagePromptTemplate(prompt=PromptTemplate(input_variables=['input'], template='{input}')),\n",
       " MessagesPlaceholder(variable_name='agent_scratchpad')]"
      ]
     },
     "execution_count": 11,
     "metadata": {},
     "output_type": "execute_result"
    }
   ],
   "source": [
    "from langchain import hub\n",
    "\n",
    "# Get the prompt template to use\n",
    "prompt = hub.pull(\"hwchase17/openai-functions-agent\")\n",
    "prompt.messages"
   ]
  },
  {
   "cell_type": "code",
   "execution_count": 12,
   "metadata": {},
   "outputs": [],
   "source": [
    "from langchain.agents import create_openai_functions_agent\n",
    "\n",
    "agent = create_openai_functions_agent(llm, tools, prompt)"
   ]
  },
  {
   "cell_type": "code",
   "execution_count": 13,
   "metadata": {},
   "outputs": [],
   "source": [
    "from langchain.agents import AgentExecutor\n",
    "\n",
    "agent_executor = AgentExecutor(agent=agent, tools=tools, verbose=True)"
   ]
  },
  {
   "cell_type": "markdown",
   "metadata": {},
   "source": [
    "## Run the Agent"
   ]
  },
  {
   "cell_type": "code",
   "execution_count": 14,
   "metadata": {},
   "outputs": [
    {
     "name": "stdout",
     "output_type": "stream",
     "text": [
      "\n",
      "\n",
      "\u001b[1m> Entering new AgentExecutor chain...\u001b[0m\n",
      "\u001b[32;1m\u001b[1;3mHello! How can I assist you today?\u001b[0m\n",
      "\n",
      "\u001b[1m> Finished chain.\u001b[0m\n"
     ]
    },
    {
     "data": {
      "text/plain": [
       "{'input': 'Hi!', 'output': 'Hello! How can I assist you today?'}"
      ]
     },
     "execution_count": 14,
     "metadata": {},
     "output_type": "execute_result"
    }
   ],
   "source": [
    "agent_executor.invoke({\"input\": \"Hi!\"})"
   ]
  },
  {
   "cell_type": "code",
   "execution_count": 35,
   "metadata": {},
   "outputs": [
    {
     "name": "stdout",
     "output_type": "stream",
     "text": [
      "\n",
      "\n",
      "\u001b[1m> Entering new AgentExecutor chain...\u001b[0m\n",
      "\u001b[32;1m\u001b[1;3m\n",
      "Invoking: `langsmith_search` with `{'query': 'Langsmith testing'}`\n",
      "\n",
      "\n",
      "\u001b[0m\u001b[33;1m\u001b[1;3mHow to manage datasets programmatically | 🦜️🛠️ LangSmith\n",
      "\n",
      "Skip to main content🦜️🛠️ LangSmith DocsLangChain Python DocsLangChain JS/TS DocsLangSmith API DocsSearchGo to AppLangSmithUser GuideSetupPricing (Coming Soon)Self-HostingTracingEvaluationOverviewQuick StartConceptsHow-To GuidesHow to manage datasets in the appHow to create datasets from the clientHow to list datasets from the clientHow to list datapoints from the clientHow to create custom evaluatorsHow to use off-the-shelf LangChain evaluatorsHow to paraphrase examples to expand your datasetHow to create new examples using promptingRecommendationsMonitoringPrompt HubEvaluationHow-To GuidesHow to create datasets from the clientOn this pageHow to manage datasets programmaticallyYou can create a dataset from existing runs or upload a CSV file (or pandas dataframe in python).Once you have a dataset created, you can continue to add new runs to it as examples. We recommend that you organize datasets to target a single \"task\", usually served by a single chain or LLM. For more discussions on\n",
      "\n",
      "from list of valuesCreate from existing runsCreate dataset from CSVCreate dataset from pandas dataframeCommunityDiscordTwitterGitHubDocs CodeLangSmith SDKPythonJS/TSMoreHomepageBlogCopyright © 2024 LangChain, Inc.\n",
      "\n",
      "= \"Elementary Animal Questions\"# Storing inputs in a dataset lets us# run chains and LLMs over a shared set of examples.dataset = client.create_dataset(    dataset_name=dataset_name, description=\"Questions and answers about animal phylogenetics.\",)for input_prompt, output_answer in example_inputs:    client.create_example(        inputs={\"question\": input_prompt},        outputs={\"answer\": output_answer},        dataset_id=dataset.id,    )import { Client } from \"langsmith\";const client = new Client({  // apiUrl: \"https://api.langchain.com\", // Defaults to the LANGCHAIN_ENDPOINT env var  // apiKey: \"my_api_key\", // Defaults to the LANGCHAIN_API_KEY env var  /* callerOptions: {         maxConcurrency?: Infinity; // Maximum number of concurrent requests to make         maxRetries?: 6; // Maximum number of retries to make  }*/});const exampleInputs: [string, string][] = [  [\"What is the largest mammal?\", \"The blue whale\"],  [\"What do mammals and birds have in common?\", \"They are both\u001b[0m\u001b[32;1m\u001b[1;3mLangsmith can help with testing by allowing you to manage datasets programmatically. You can create datasets from existing runs or upload CSV files or pandas dataframes in Python. Once you have a dataset created, you can continue to add new runs to it as examples. It is recommended to organize datasets to target a single task, usually served by a single chain or LLM. This can help in testing and evaluating models efficiently.\u001b[0m\n",
      "\n",
      "\u001b[1m> Finished chain.\u001b[0m\n"
     ]
    },
    {
     "data": {
      "text/plain": [
       "{'input': 'How can langsmith help with testing?',\n",
       " 'output': 'Langsmith can help with testing by allowing you to manage datasets programmatically. You can create datasets from existing runs or upload CSV files or pandas dataframes in Python. Once you have a dataset created, you can continue to add new runs to it as examples. It is recommended to organize datasets to target a single task, usually served by a single chain or LLM. This can help in testing and evaluating models efficiently.'}"
      ]
     },
     "execution_count": 35,
     "metadata": {},
     "output_type": "execute_result"
    }
   ],
   "source": [
    "agent_executor.invoke({\"input\": \"How can langsmith help with testing?\"})"
   ]
  },
  {
   "cell_type": "code",
   "execution_count": 15,
   "metadata": {},
   "outputs": [
    {
     "name": "stdout",
     "output_type": "stream",
     "text": [
      "\n",
      "\n",
      "\u001b[1m> Entering new AgentExecutor chain...\u001b[0m\n",
      "\u001b[32;1m\u001b[1;3m\n",
      "Invoking: `tavily_search_results_json` with `{'query': 'weather in San Francisco'}`\n",
      "\n",
      "\n",
      "\u001b[0m\u001b[36;1m\u001b[1;3m[{'url': 'https://www.weatherapi.com/', 'content': \"Weather in San Francisco is {'location': {'name': 'San Francisco', 'region': 'California', 'country': 'United States of America', 'lat': 37.78, 'lon': -122.42, 'tz_id': 'America/Los_Angeles', 'localtime_epoch': 1708493874, 'localtime': '2024-02-20 21:37'}, 'current': {'last_updated_epoch': 1708493400, 'last_updated': '2024-02-20 21:30', 'temp_c': 11.1, 'temp_f': 52.0, 'is_day': 0, 'condition': {'text': 'Partly cloudy', 'icon': '//cdn.weatherapi.com/weather/64x64/night/116.png', 'code': 1003}, 'wind_mph': 3.8, 'wind_kph': 6.1, 'wind_degree': 40, 'wind_dir': 'NE', 'pressure_mb': 1019.0, 'pressure_in': 30.08, 'precip_mm': 0.1, 'precip_in': 0.0, 'humidity': 93, 'cloud': 75, 'feelslike_c': 10.5, 'feelslike_f': 51.0, 'vis_km': 16.0, 'vis_miles': 9.0, 'uv': 1.0, 'gust_mph': 7.1, 'gust_kph': 11.4}}\"}, {'url': 'https://www.weathertab.com/en/g/e/02/united-states/california/san-francisco/', 'content': 'Free Long Range Weather Forecast for San Francisco, California February 2024. Detailed graphs of monthly weather forecast, temperatures, and degree days.'}, {'url': 'https://www.cnn.com/2024/02/19/weather/california-storm-rain-flooding-monday/index.html', 'content': 'Officials are concerned about “excessive runoff from moderate to heavy rain,” which may lead to flooding, according to a\\xa0post from the city\\xa0on X.\\nPortions of the Bay Area picked up 0.75 to 1.5 inches of rain from Friday night to early Monday morning, with higher amounts of 2 to 3.5 inches in the higher terrain near the coast.\\n Major cities facing the most flood risk over the next couple of days include Los Angeles with a Level 3 of 4 risk on Monday and Level 2 of 4 risk Tuesday, and Santa Barbara with a Level 2 of 4 risk on Monday and Tuesday .\\n The Los Angeles office of the National Weather Service warned “significant flooding” is possible and 2 to 5 inches of rain are expected – with up to 10 inches in isolated areas of the Santa Lucias and Santa Ynez ranges.\\n CNN values your feedback\\nNearly the entire population of California is under flood alerts as rain drenches the state\\nFollow:\\nNearly the entire population of California is under flood alerts as rain drenches the already-soaked state. Airport and roads closed by flooding: The Santa Barbara Airport was closed due to flooding on Monday morning, the airport announced on X. A flooded portion of Highway 246 was shut down in both directions Monday morning in Santa Barbara County with no estimate for reopening, according to Caltrans.'}, {'url': 'https://www.peoplesweather.com/weather/San+Francisco/?date=2024-02-21', 'content': 'Get your weather updates for San Francisco as seen on our Detailed Bulletin on People°s Weather DStv Channel 180 and Openview Channel 115. ... Wednesday 21 February 2024. 13°C 10°C: 10% . Cloud Cover: 100%. SE / 8km/h. Light Breeze. Chance of Rain: Morning: 10°C: Overcast. Cool: Afternoon: 13°C: Partly Cloudy. Cool: Night: 11°C: Clear. Cool'}, {'url': 'https://world-weather.info/forecast/usa/san_francisco/february-2024/', 'content': \"San Francisco Weather Forecast for February 2024 is based on long term prognosis and previous years' statistical data. 2015 2016 2017 2018 2019 2020 2021 2022 2023 2024 2025 Jan Feb Mar Apr May Jun Jul Aug Sep Oct Nov Dec February Start Week On Sunday Monday Sun Mon Tue Wed Thu Fri Sat 1 +59° +54° 2 +57° +52° 3 +57° +48° 4 +61° +54° 5 +57° +55° 6\"}]\u001b[0m\u001b[32;1m\u001b[1;3mThe current weather in San Francisco is partly cloudy with a temperature of 52.0°F (11.1°C). The wind is coming from the northeast at 6.1 km/h, and the humidity is at 93%.\u001b[0m\n",
      "\n",
      "\u001b[1m> Finished chain.\u001b[0m\n"
     ]
    },
    {
     "data": {
      "text/plain": [
       "{'input': 'What is the weather in SF?',\n",
       " 'output': 'The current weather in San Francisco is partly cloudy with a temperature of 52.0°F (11.1°C). The wind is coming from the northeast at 6.1 km/h, and the humidity is at 93%.'}"
      ]
     },
     "execution_count": 15,
     "metadata": {},
     "output_type": "execute_result"
    }
   ],
   "source": [
    "agent_executor.invoke({\"input\": \"What is the weather in SF?\"})"
   ]
  },
  {
   "cell_type": "markdown",
   "metadata": {},
   "source": [
    "## Adding the memory"
   ]
  },
  {
   "cell_type": "code",
   "execution_count": 17,
   "metadata": {},
   "outputs": [
    {
     "name": "stdout",
     "output_type": "stream",
     "text": [
      "\n",
      "\n",
      "\u001b[1m> Entering new AgentExecutor chain...\u001b[0m\n",
      "\u001b[32;1m\u001b[1;3mHello Tran! How can I assist you today?\u001b[0m\n",
      "\n",
      "\u001b[1m> Finished chain.\u001b[0m\n"
     ]
    },
    {
     "data": {
      "text/plain": [
       "{'input': 'hi! my name is Tran',\n",
       " 'chat_history': [],\n",
       " 'output': 'Hello Tran! How can I assist you today?'}"
      ]
     },
     "execution_count": 17,
     "metadata": {},
     "output_type": "execute_result"
    }
   ],
   "source": [
    "# Here we pass in an empty list of messages for chat_history because it is the first message in the chat\n",
    "agent_executor.invoke({\"input\": \"hi! my name is Tran\", \"chat_history\": []})"
   ]
  },
  {
   "cell_type": "code",
   "execution_count": 18,
   "metadata": {},
   "outputs": [],
   "source": [
    "from langchain_core.messages import AIMessage, HumanMessage"
   ]
  },
  {
   "cell_type": "code",
   "execution_count": 19,
   "metadata": {},
   "outputs": [
    {
     "name": "stdout",
     "output_type": "stream",
     "text": [
      "\n",
      "\n",
      "\u001b[1m> Entering new AgentExecutor chain...\u001b[0m\n",
      "\u001b[32;1m\u001b[1;3mYour name is Tran. How can I assist you today, Tran?\u001b[0m\n",
      "\n",
      "\u001b[1m> Finished chain.\u001b[0m\n"
     ]
    },
    {
     "data": {
      "text/plain": [
       "{'chat_history': [HumanMessage(content='hi! my name is Tran'),\n",
       "  AIMessage(content='Hello Tran! How can I assist you today?')],\n",
       " 'input': \"What's my  name?\",\n",
       " 'output': 'Your name is Tran. How can I assist you today, Tran?'}"
      ]
     },
     "execution_count": 19,
     "metadata": {},
     "output_type": "execute_result"
    }
   ],
   "source": [
    "agent_executor.invoke({\n",
    "    \"chat_history\": [\n",
    "        HumanMessage(content=\"hi! my name is Tran\"),\n",
    "        AIMessage(content=\"Hello Tran! How can I assist you today?\"),\n",
    "    ],\n",
    "    \"input\": \"What's my  name?\",\n",
    "})"
   ]
  },
  {
   "cell_type": "code",
   "execution_count": 20,
   "metadata": {},
   "outputs": [],
   "source": [
    "from langchain_community.chat_message_histories import ChatMessageHistory\n",
    "from langchain_core.runnables.history import RunnableWithMessageHistory"
   ]
  },
  {
   "cell_type": "code",
   "execution_count": 21,
   "metadata": {},
   "outputs": [],
   "source": [
    "message_history = ChatMessageHistory()"
   ]
  },
  {
   "cell_type": "code",
   "execution_count": 23,
   "metadata": {},
   "outputs": [],
   "source": [
    "agent_with_chat_history = RunnableWithMessageHistory(\n",
    "    agent_executor,\n",
    "    lambda session_id: message_history,\n",
    "    input_messages_key=\"input\",\n",
    "    history_messages_key=\"chat_history\",\n",
    ")"
   ]
  },
  {
   "cell_type": "code",
   "execution_count": 24,
   "metadata": {},
   "outputs": [
    {
     "name": "stdout",
     "output_type": "stream",
     "text": [
      "\n",
      "\n",
      "\u001b[1m> Entering new AgentExecutor chain...\u001b[0m\n",
      "\u001b[32;1m\u001b[1;3mHello Tran! How can I assist you today?\u001b[0m\n",
      "\n",
      "\u001b[1m> Finished chain.\u001b[0m\n"
     ]
    },
    {
     "data": {
      "text/plain": [
       "{'input': \"Hi! I'm Tran\",\n",
       " 'chat_history': [],\n",
       " 'output': 'Hello Tran! How can I assist you today?'}"
      ]
     },
     "execution_count": 24,
     "metadata": {},
     "output_type": "execute_result"
    }
   ],
   "source": [
    "agent_with_chat_history.invoke(\n",
    "    {\n",
    "        \"input\": \"Hi! I'm Tran\"\n",
    "    },\n",
    "    config={\n",
    "        \"configurable\": {\"session_id\": \"<foo>\"}\n",
    "    }\n",
    ")"
   ]
  },
  {
   "cell_type": "code",
   "execution_count": 25,
   "metadata": {},
   "outputs": [
    {
     "name": "stdout",
     "output_type": "stream",
     "text": [
      "\n",
      "\n",
      "\u001b[1m> Entering new AgentExecutor chain...\u001b[0m\n",
      "\u001b[32;1m\u001b[1;3mYour name is Tran. How can I assist you today, Tran?\u001b[0m\n",
      "\n",
      "\u001b[1m> Finished chain.\u001b[0m\n"
     ]
    },
    {
     "data": {
      "text/plain": [
       "{'input': \"what's my name?\",\n",
       " 'chat_history': [HumanMessage(content=\"Hi! I'm Tran\"),\n",
       "  AIMessage(content='Hello Tran! How can I assist you today?')],\n",
       " 'output': 'Your name is Tran. How can I assist you today, Tran?'}"
      ]
     },
     "execution_count": 25,
     "metadata": {},
     "output_type": "execute_result"
    }
   ],
   "source": [
    "agent_with_chat_history.invoke(\n",
    "    {\"input\": \"what's my name?\"},\n",
    "    # This is needed because in most real world scenarios, a session id is needed\n",
    "    # It isn't really used here because we are using a simple in memory ChatMessageHistory\n",
    "    config={\"configurable\": {\"session_id\": \"<foo>\"}},\n",
    ")"
   ]
  },
  {
   "cell_type": "code",
   "execution_count": null,
   "metadata": {},
   "outputs": [],
   "source": []
  }
 ],
 "metadata": {
  "kernelspec": {
   "display_name": "alpha-bot",
   "language": "python",
   "name": "python3"
  },
  "language_info": {
   "codemirror_mode": {
    "name": "ipython",
    "version": 3
   },
   "file_extension": ".py",
   "mimetype": "text/x-python",
   "name": "python",
   "nbconvert_exporter": "python",
   "pygments_lexer": "ipython3",
   "version": "3.11.6"
  }
 },
 "nbformat": 4,
 "nbformat_minor": 2
}
