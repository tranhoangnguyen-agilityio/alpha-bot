{
 "cells": [
  {
   "cell_type": "code",
   "execution_count": null,
   "metadata": {},
   "outputs": [],
   "source": [
    "#%pip install --upgrade --quiet  langchain-openai tavily-python"
   ]
  },
  {
   "cell_type": "code",
   "execution_count": 6,
   "metadata": {},
   "outputs": [],
   "source": [
    "from langchain import hub\n",
    "from langchain.agents import AgentExecutor, create_openai_tools_agent\n",
    "from langchain_community.tools.tavily_search import TavilySearchResults\n",
    "from langchain_openai import ChatOpenAI"
   ]
  },
  {
   "cell_type": "code",
   "execution_count": 11,
   "metadata": {},
   "outputs": [],
   "source": [
    "# Enable LangSmith tracking\n",
    "import os\n",
    "from dotenv import load_dotenv, find_dotenv\n",
    "_ = load_dotenv(find_dotenv()) # read local .env file\n",
    "\n",
    "os.environ[\"LANGCHAIN_TRACING_V2\"] = \"true\"\n",
    "os.environ[\"LANGCHAIN_ENDPOINT\"] = \"https://api.langchain.plus\""
   ]
  },
  {
   "cell_type": "markdown",
   "metadata": {},
   "source": [
    "## Initialize Tools"
   ]
  },
  {
   "cell_type": "code",
   "execution_count": 7,
   "metadata": {},
   "outputs": [],
   "source": [
    "# For this agent let's give it the ability to search the web with Tavily\n",
    "tools = [TavilySearchResults(max_results=1)]"
   ]
  },
  {
   "cell_type": "markdown",
   "metadata": {},
   "source": [
    "## Create Agent"
   ]
  },
  {
   "cell_type": "code",
   "execution_count": 8,
   "metadata": {},
   "outputs": [
    {
     "data": {
      "text/plain": [
       "method"
      ]
     },
     "execution_count": 8,
     "metadata": {},
     "output_type": "execute_result"
    }
   ],
   "source": [
    "# Get the prompt to use - you can modify this\n",
    "prompt = hub.pull(\"hwchase17/openai-tools-agent\")\n",
    "\n",
    "# Choose the LLM that will drive the agent\n",
    "# Only certain models support this\n",
    "llm = ChatOpenAI(model=\"gpt-3.5-turbo-1106\", temperature=0)\n",
    "\n",
    "# Construct the OpenAI Tools agent\n",
    "agent = create_openai_tools_agent(llm, tools, prompt)\n",
    "\n",
    "type(llm.bind)"
   ]
  },
  {
   "cell_type": "markdown",
   "metadata": {},
   "source": [
    "## Run Agent"
   ]
  },
  {
   "cell_type": "code",
   "execution_count": 9,
   "metadata": {},
   "outputs": [],
   "source": [
    "# Create an agent executor by passing in the agent and tools\n",
    "agent_executor = AgentExecutor(agent=agent, tools=tools, verbose=True)"
   ]
  },
  {
   "cell_type": "code",
   "execution_count": 12,
   "metadata": {},
   "outputs": [
    {
     "name": "stdout",
     "output_type": "stream",
     "text": [
      "\n",
      "\n",
      "\u001b[1m> Entering new AgentExecutor chain...\u001b[0m\n",
      "\u001b[32;1m\u001b[1;3m\n",
      "Invoking: `tavily_search_results_json` with `{'query': 'Midjourney'}`\n",
      "\n",
      "\n",
      "\u001b[0m\u001b[36;1m\u001b[1;3m[{'url': 'https://en.wikipedia.org/wiki/Midjourney', 'content': 'The tools, which enable advertisers to create original content and brainstorm ideas quickly are providing new opportunities, such as \"custom ads created for individuals, a new way to create special effects, or even making e-commerce advertising more efficient\", according to Ad Age.[20]\\nArchitects have described using the software to generate mood boards for the early stages of projects, as an alternative to searching Google Images.[21]\\nNotable usage and controversy[edit]\\nThe program was used by the British magazine The Economist to create the front cover for an issue in June 2022.[23][24] Including but not limited to the /blend command which allows the user to blend two images, the /shorten command allowing the user to get suggestions on how to make a long prompt shorter, and others which improve upon the Midjourney experience.[citation needed]\\nUses[edit]\\nFounder David Holz says he sees artists as customers, not competitors of Midjourney. Some artists have accused Midjourney of devaluing original creative work by using it in the training set;[18] Midjourney\\'s terms of service includes a DMCA takedown policy, allowing artists to request their work to be removed from the set if they believe copyright infringement to be evident.[19]\\nThe advertising industry has been quick to embrace AI tools such as Midjourney, DALL-E, and Stable Diffusion, among others. Widespread attention was gained by a Midjourney-generated photo of Pope Francis wearing a white puffer coat,[34][35] the fictional arrest of Donald Trump,[36] and a hoax of an attack on the Pentagon,[37] as well as the usage in professional creative arts.[38][39]\\nResearch has suggested that the images Midjourney generates can be biased. On January 13, 2023, three artists\\xa0–\\xa0Sarah Andersen, Kelly McKernan, and Karla Ortiz\\xa0–\\xa0filed a copyright infringement lawsuit against Stability AI, Midjourney, and DeviantArt, claiming that these companies have infringed the rights of millions of artists, by training AI tools on five billion images scraped from the web, without the consent of the original artists.[45]\\n'}]\u001b[0m\u001b[32;1m\u001b[1;3mMidjourney is an AI tool that enables advertisers to create original content and brainstorm ideas quickly. It provides new opportunities, such as creating custom ads for individuals, generating special effects, and making e-commerce advertising more efficient. Architects have also used the software to generate mood boards for the early stages of projects as an alternative to searching Google Images.\n",
      "\n",
      "Notable usage and controversy surrounding Midjourney include its use by the British magazine The Economist to create a front cover for an issue in June 2022. The program has been embraced by the advertising industry, but there have been concerns about copyright infringement and bias in the images it generates.\n",
      "\n",
      "For more information, you can visit the Wikipedia page on Midjourney: [Midjourney Wikipedia Page](https://en.wikipedia.org/wiki/Midjourney)\u001b[0m\n",
      "\n",
      "\u001b[1m> Finished chain.\u001b[0m\n"
     ]
    },
    {
     "data": {
      "text/plain": [
       "{'input': 'What is Midjourney?',\n",
       " 'output': 'Midjourney is an AI tool that enables advertisers to create original content and brainstorm ideas quickly. It provides new opportunities, such as creating custom ads for individuals, generating special effects, and making e-commerce advertising more efficient. Architects have also used the software to generate mood boards for the early stages of projects as an alternative to searching Google Images.\\n\\nNotable usage and controversy surrounding Midjourney include its use by the British magazine The Economist to create a front cover for an issue in June 2022. The program has been embraced by the advertising industry, but there have been concerns about copyright infringement and bias in the images it generates.\\n\\nFor more information, you can visit the Wikipedia page on Midjourney: [Midjourney Wikipedia Page](https://en.wikipedia.org/wiki/Midjourney)'}"
      ]
     },
     "execution_count": 12,
     "metadata": {},
     "output_type": "execute_result"
    }
   ],
   "source": [
    "agent_executor.invoke({\"input\": \"What is Midjourney?\"})"
   ]
  },
  {
   "cell_type": "markdown",
   "metadata": {},
   "source": [
    "## Using with chat history"
   ]
  },
  {
   "cell_type": "code",
   "execution_count": null,
   "metadata": {},
   "outputs": [],
   "source": [
    "from langchain_core.messages import AIMessage, HumanMessage\n",
    "\n",
    "agent_executor.invoke({\n",
    "    \"input\": \"What is my favorite color?\",\n",
    "    \"chat_history\": [\n",
    "        HumanMessage(content=\"Hi! My name is Tran and my favorite color is blue.\"),\n",
    "        AIMessage(content=\"Hello Tran! How can I assit you today\")\n",
    "    ]\n",
    "})"
   ]
  },
  {
   "cell_type": "code",
   "execution_count": null,
   "metadata": {},
   "outputs": [],
   "source": []
  }
 ],
 "metadata": {
  "kernelspec": {
   "display_name": "alpha-bot",
   "language": "python",
   "name": "python3"
  },
  "language_info": {
   "codemirror_mode": {
    "name": "ipython",
    "version": 3
   },
   "file_extension": ".py",
   "mimetype": "text/x-python",
   "name": "python",
   "nbconvert_exporter": "python",
   "pygments_lexer": "ipython3",
   "version": "3.11.6"
  }
 },
 "nbformat": 4,
 "nbformat_minor": 2
}
