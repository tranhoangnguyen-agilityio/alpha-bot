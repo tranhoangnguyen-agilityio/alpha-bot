{
 "cells": [
  {
   "cell_type": "code",
   "execution_count": null,
   "metadata": {},
   "outputs": [],
   "source": [
    "#%pip install --upgrade --quiet  langchain-openai tavily-python"
   ]
  },
  {
   "cell_type": "code",
   "execution_count": 1,
   "metadata": {},
   "outputs": [],
   "source": [
    "from langchain import hub\n",
    "from langchain.agents import AgentExecutor, create_openai_tools_agent\n",
    "from langchain_community.tools.tavily_search import TavilySearchResults\n",
    "from langchain_openai import ChatOpenAI"
   ]
  },
  {
   "cell_type": "code",
   "execution_count": 2,
   "metadata": {},
   "outputs": [],
   "source": [
    "# Enable LangSmith tracking\n",
    "import os\n",
    "from dotenv import load_dotenv, find_dotenv\n",
    "_ = load_dotenv(find_dotenv()) # read local .env file\n"
   ]
  },
  {
   "cell_type": "code",
   "execution_count": null,
   "metadata": {},
   "outputs": [],
   "source": [
    "os.environ[\"LANGCHAIN_TRACING_V2\"] = \"true\"\n",
    "os.environ[\"LANGCHAIN_ENDPOINT\"] = \"https://api.langchain.plus\""
   ]
  },
  {
   "cell_type": "markdown",
   "metadata": {},
   "source": [
    "## Initialize Tools"
   ]
  },
  {
   "cell_type": "code",
   "execution_count": 3,
   "metadata": {},
   "outputs": [],
   "source": [
    "# For this agent let's give it the ability to search the web with Tavily\n",
    "tools = [TavilySearchResults(max_results=1)]"
   ]
  },
  {
   "cell_type": "markdown",
   "metadata": {},
   "source": [
    "## Create Agent"
   ]
  },
  {
   "cell_type": "code",
   "execution_count": 4,
   "metadata": {},
   "outputs": [
    {
     "data": {
      "text/plain": [
       "method"
      ]
     },
     "execution_count": 4,
     "metadata": {},
     "output_type": "execute_result"
    }
   ],
   "source": [
    "# Get the prompt to use - you can modify this\n",
    "prompt = hub.pull(\"hwchase17/openai-tools-agent\")\n",
    "\n",
    "# Choose the LLM that will drive the agent\n",
    "# Only certain models support this\n",
    "llm = ChatOpenAI(model=\"gpt-3.5-turbo-1106\", temperature=0)\n",
    "\n",
    "# Construct the OpenAI Tools agent\n",
    "agent = create_openai_tools_agent(llm, tools, prompt)\n",
    "\n",
    "type(llm.bind)"
   ]
  },
  {
   "cell_type": "markdown",
   "metadata": {},
   "source": [
    "## Run Agent"
   ]
  },
  {
   "cell_type": "code",
   "execution_count": 5,
   "metadata": {},
   "outputs": [],
   "source": [
    "agent_executor = AgentExecutor(agent=agent, tools=tools, verbose=True)"
   ]
  },
  {
   "cell_type": "code",
   "execution_count": null,
   "metadata": {},
   "outputs": [],
   "source": [
    "# Create an agent executor by passing in the agent and tools\n",
    "agent_executor = AgentExecutor(agent=agent, tools=tools, verbose=True)"
   ]
  },
  {
   "cell_type": "code",
   "execution_count": 6,
   "metadata": {},
   "outputs": [
    {
     "name": "stdout",
     "output_type": "stream",
     "text": [
      "\n",
      "\n",
      "\u001b[1m> Entering new AgentExecutor chain...\u001b[0m\n",
      "\u001b[32;1m\u001b[1;3m\n",
      "Invoking: `tavily_search_results_json` with `{'query': 'Midjourney'}`\n",
      "\n",
      "\n",
      "\u001b[0m\u001b[36;1m\u001b[1;3m[{'url': 'https://www.techspot.com/guides/2648-midjourney-ai/', 'content': 'The colors should be rich and vibrant, with a focus on Hasselblad-style tones --ar 16:9 --v 5\\nPrompt: photograph of the interior of a living room, large mirror on the wall, flowers in a vase, cream walls, pastel palette, clean style, soft lighting, minimalistic, hyper-realistic, high resolution, 4K detail, rendered in Octane, warm lighting --v 4\\nPrompt: a cute magical flying dragon, fantasy art drawn by Disney concept artists, golden color, high quality, highly detailed, elegant, sharp focus, concept art, character concepts, digital painting, mystery, adventure, cinematic, glowing, vivid colors --ar 16:9 --v 4\\nPrompt: white porsche 917, dotonbori osaka in the background, night, fine art cinematic automotive photography, ultra hyper realism --v 5 --s 250\\nPrompt: black and white photograph of a tree, dark background, high resolution, flood light, sharp contrast --ar 3:2 --v 4\\nPrompt: A member of the Kaingang tribe stands proudly in a portrait, their traditional clothing and intricate beadwork adding to the beauty of their warm smile and gleaming white teeth as they pose for the camera. The lens size is 300mm:: anime::1 crepuscular rays::1 --ar 16:9 --stylize 1000 --v 4\\nPrompt: A digital art piece of a giant octopus made of jelly beans, attacking a city skyline --v 4\\nPrompt: underwater photograph of a shoal of fish, blue ocean, light beams, bright colors, realistic, high resolution, high detail, tuna, mackerel, swordfish, jellyfish, shark, caustics, refraction, high dynamic range, pacific, coral reef, 4K --chaos 10 --stylize 500 --ar 3:2 --style 4b\\nPrompt: glitter encrusted codex seraphinianus mandelbulb garden :: colorful remedios varo garden with many animals --ar 5:3 --v 5\\nGoing further with Midjourney\\nBecause Midjourney no longer offers an open free trial, you pretty much have to get a subscription plan and the first advantage offered by this is that you can use Discord\\'s direct messages with the bot, instead of the (very) public channels.\\n phone --v 5 --q 2\\nPrompt: fantasy landscape, atmospheric, hyper-realistic, 8k, epic composition, cinematic, octane render, artstation landscape, vista photography, 16K resolution, landscape veduta photo, 8k resolution, detailed landscape painting, DeviantArt, Flickr, rendered in Enscape, 4k detailed post processing, artstation, rendering by octane, unreal engine --ar 16:9 --v 4\\nPrompt: imagine a cyborg bikini model, facing the camera, she is very tall standing 100 meters high above much smaller buildings, 35mm film, --ar 16:9\\nPrompt: Street style fashion photo, full-body shot of a Portuguese man with black hair and full beard, walking with a crowd of people on a sidewalk in Dubai while holding his leather laptop case, wearing a royal blue Dolce & Gabbana blazer and white button up, sunset lighting --ar 1000 --v 5\\nPrompt: Elon Musk dressed in skin-tight leopard print with a leopard scarf and a walking cane, inviting you to get you pretty lil ahh in the car as he waves you into his Cadillac Escalade\\nPrompt: highly detailed photo of a graphics card in a powerful PC, bright colors, RGB lights, lots of cooling fans, glass panels, high resolution, ultra-detailed, vivid colors, neon lighting, dark background, flood light, radeon, geforce, ryzen, water cooled --ar HP CEO says customers who don\\'t use the company\\'s supplies are \"bad investments\"\\nMOTHERBOARD\\nAMD is showing every sign of supporting AM4 for the foreseeable future\\nMIXED REALITY\\nApple could have sold up to 180,000 Vision Pro headsets, but it\\'s not all good news\\nOPINION\\n'}]\u001b[0m\u001b[32;1m\u001b[1;3mMidjourney appears to be a platform that offers AI-generated images and artwork. It provides a variety of prompts for generating images, including photographs, digital art, and fantasy landscapes. Additionally, it seems that Midjourney no longer offers an open free trial and requires a subscription plan to access its services. If you would like more detailed information, I can look further into it.\u001b[0m\n",
      "\n",
      "\u001b[1m> Finished chain.\u001b[0m\n"
     ]
    },
    {
     "data": {
      "text/plain": [
       "{'input': 'What is Midjourney?',\n",
       " 'output': 'Midjourney appears to be a platform that offers AI-generated images and artwork. It provides a variety of prompts for generating images, including photographs, digital art, and fantasy landscapes. Additionally, it seems that Midjourney no longer offers an open free trial and requires a subscription plan to access its services. If you would like more detailed information, I can look further into it.'}"
      ]
     },
     "execution_count": 6,
     "metadata": {},
     "output_type": "execute_result"
    }
   ],
   "source": [
    "agent_executor.invoke({\"input\": \"What is Midjourney?\"})\n",
    "\n",
    "# OpenAI debug class\n",
    "# OpenAIToolAgentAction\n",
    "# OpenAIToolsAgentOutputParser: https://github.com/langchain-ai/langchain/blob/514fe807784f520449914a64ffc983538fa6743d/libs/langchain/langchain/agents/output_parsers/openai_tools.py#L16"
   ]
  },
  {
   "cell_type": "markdown",
   "metadata": {},
   "source": [
    "## Using with chat history"
   ]
  },
  {
   "cell_type": "code",
   "execution_count": null,
   "metadata": {},
   "outputs": [],
   "source": [
    "from langchain_core.messages import AIMessage, HumanMessage\n",
    "\n",
    "agent_executor.invoke({\n",
    "    \"input\": \"What is my favorite color?\",\n",
    "    \"chat_history\": [\n",
    "        HumanMessage(content=\"Hi! My name is Tran and my favorite color is blue.\"),\n",
    "        AIMessage(content=\"Hello Tran! How can I assit you today\")\n",
    "    ]\n",
    "})"
   ]
  },
  {
   "cell_type": "code",
   "execution_count": null,
   "metadata": {},
   "outputs": [],
   "source": []
  }
 ],
 "metadata": {
  "kernelspec": {
   "display_name": "alpha-bot",
   "language": "python",
   "name": "python3"
  },
  "language_info": {
   "codemirror_mode": {
    "name": "ipython",
    "version": 3
   },
   "file_extension": ".py",
   "mimetype": "text/x-python",
   "name": "python",
   "nbconvert_exporter": "python",
   "pygments_lexer": "ipython3",
   "version": "3.11.6"
  }
 },
 "nbformat": 4,
 "nbformat_minor": 2
}
